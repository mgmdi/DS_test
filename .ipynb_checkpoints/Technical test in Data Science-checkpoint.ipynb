{
 "cells": [
  {
   "cell_type": "markdown",
   "metadata": {},
   "source": [
    "# Reading dataset *realties* and converting it into a DataFrame\n",
    "### The columns with JSON objects will be converted into DataFrames as well"
   ]
  },
  {
   "cell_type": "code",
   "execution_count": 1,
   "metadata": {
    "_cell_guid": "b1076dfc-b9ad-4769-8c92-a6c4dae69d19",
    "_uuid": "8f2839f25d086af736a60e9eeb907d3b93b6e0e5"
   },
   "outputs": [],
   "source": [
    "import json \n",
    "import pandas as pd \n",
    "\n",
    "#load json object\n",
    "with open('./realties.json') as f:\n",
    "    d = json.load(f)\n",
    "\n",
    "realties_df = pd.DataFrame(d)"
   ]
  },
  {
   "cell_type": "markdown",
   "metadata": {},
   "source": [
    "### Given that *_source* contains JSON objects we have to expand every row using a DataFrame. "
   ]
  },
  {
   "cell_type": "code",
   "execution_count": null,
   "metadata": {},
   "outputs": [],
   "source": [
    "cols = ['_source.error','_source.uf', '_source.longitude', '_source.url', '_source.geometry', '_source.condominio', '_source.cidade_uf', '_source.scraping',\n",
    "'_source.default','_source.area_util','_source.area_total','_source.contato_imobiliaria','_source.valor','_source.isportal','_source.isparticular',\n",
    "'_source.nome_corretor','_source.banheiro','_source.tipo_negocio','_source.quarto','_source.status','_source.title','_source.opcionais','_source.latitude',\n",
    "'_source.cidade','_source.descricao','_source.lista_fotos','_source.bairro','_source.garagem','_source.iptu','_source.data_inclusao','_source.codigo',\n",
    "'_source.finalidade','_source.geohash','_source.tipo_imovel','_source.zoneamento','_source.anunciante','_source.endereco','_source.area_construida','_source.suite',\n",
    "'_source.area_terreno','_source.area_privativa','_source.cep','_source.numero_corretor','_source.idade_imovel','_source.edificio','_source.isconstrutora',\n",
    "'_source.area_comum','_source.seguro_incendio','_source.email_corretor','_source.nome_contato','_source.numero_contato_imagem','_source.complemento','_source.terreno_fundo',\n",
    "'_source.terreno_frente','_source.terreno_esquerda','_source.testada']\n",
    "source_df = pd.DataFrame(d['_source']).T\n",
    "source_df.columns = cols"
   ]
  },
  {
   "cell_type": "markdown",
   "metadata": {},
   "source": [
    "### The situation described above also accurs in the following columns: _source.zoneamento, _source.geometry, _source.cidade, _source.bairro, _source.anunciante"
   ]
  },
  {
   "cell_type": "code",
   "execution_count": null,
   "metadata": {},
   "outputs": [],
   "source": [
    "cols = ['_source.zoneamento.id','_source.zoneamento.sigla','_source.zoneamento.nome']\n",
    "zoneamento_json = source_df['_source.zoneamento'].to_dict()\n",
    "zoneamento_df = pd.DataFrame(zoneamento_json).T\n",
    "zoneamento_df.columns = cols"
   ]
  },
  {
   "cell_type": "code",
   "execution_count": null,
   "metadata": {},
   "outputs": [],
   "source": [
    "cols = ['_source.geometry.type','_source.geometry.coordinates']\n",
    "geometry_json = source_df['_source.geometry'].to_dict()\n",
    "geometry_df = pd.DataFrame(geometry_json).T\n",
    "geometry_df.columns = cols"
   ]
  },
  {
   "cell_type": "code",
   "execution_count": null,
   "metadata": {},
   "outputs": [],
   "source": [
    "cols = ['_source.cidade.short_name','_source.cidade.full_name']\n",
    "cidade_json = source_df['_source.cidade'].to_dict()\n",
    "cidade_df = pd.DataFrame(cidade_json).T\n",
    "cidade_df.columns = cols"
   ]
  },
  {
   "cell_type": "code",
   "execution_count": null,
   "metadata": {},
   "outputs": [],
   "source": [
    "cols = ['_source.bairro.id','_source.bairro.nome']\n",
    "bairro_json = source_df['_source.bairro'].to_dict()\n",
    "bairro_df = pd.DataFrame(bairro_json).T\n",
    "bairro_df.columns = cols"
   ]
  },
  {
   "cell_type": "code",
   "execution_count": null,
   "metadata": {},
   "outputs": [],
   "source": [
    "cols = ['_source.anunciante.id','_source.anunciante.nome']\n",
    "anunciante_json = source_df['_source.anunciante'].to_dict()\n",
    "anunciante_df = pd.DataFrame(anunciante_json).T\n",
    "anunciante_df.columns = cols"
   ]
  },
  {
   "cell_type": "code",
   "execution_count": null,
   "metadata": {},
   "outputs": [],
   "source": [
    "cols = ['_source.scraping.spider_name','_source.scraping.padrao']\n",
    "scraping_json = source_df['_source.scraping'].to_dict()\n",
    "scraping_df = pd.DataFrame(scraping_json).T\n",
    "scraping_df.columns = cols\n",
    "scraping_df.head()"
   ]
  },
  {
   "cell_type": "code",
   "execution_count": null,
   "metadata": {},
   "outputs": [],
   "source": [
    "source_df = source_df.drop(columns=['_source.zoneamento','_source.geometry','_source.cidade','_source.bairro','_source.anunciante','_source.scraping'])\n",
    "realties_df = realties_df.drop(columns=['_source'])\n",
    "result = pd.concat([realties_df,source_df,zoneamento_df,geometry_df,cidade_df,bairro_df,anunciante_df,scraping_df], axis=1, sort=False)"
   ]
  },
  {
   "cell_type": "markdown",
   "metadata": {},
   "source": [
    "## This is the final dataset after flattening JSON objects:"
   ]
  },
  {
   "cell_type": "code",
   "execution_count": null,
   "metadata": {},
   "outputs": [],
   "source": [
    "result.head()"
   ]
  },
  {
   "cell_type": "markdown",
   "metadata": {},
   "source": [
    "# Preprocessing data"
   ]
  },
  {
   "cell_type": "markdown",
   "metadata": {},
   "source": [
    "## Now we have to treat the missin values. After some tests, we figured that if we drop de NaN values then we delete more that 50% of the dataset, then it's not a good idea. So we decided to fill the missing values with 'missing' and numerical values wiht median"
   ]
  },
  {
   "cell_type": "code",
   "execution_count": null,
   "metadata": {},
   "outputs": [],
   "source": [
    "from scipy import stats\n",
    "import numpy as np\n",
    "\n",
    "# Dividing features into numerical and categorical \n",
    "num_attr = result.select_dtypes(include=[\"number\"])\n",
    "cat_attr = result.select_dtypes(exclude=[\"number\"])"
   ]
  },
  {
   "cell_type": "code",
   "execution_count": null,
   "metadata": {},
   "outputs": [],
   "source": [
    "# Fill number values with median so cant damage stats calculations\n",
    "num_attr.fillna(num_attr.median(), inplace=True)"
   ]
  },
  {
   "cell_type": "code",
   "execution_count": null,
   "metadata": {},
   "outputs": [],
   "source": [
    "# Fill values != number types with NaN\n",
    "cat_attr.fillna('missing',inplace=True)"
   ]
  },
  {
   "cell_type": "markdown",
   "metadata": {},
   "source": [
    "## Using quantile method to delete outliers from the dataset. The only variables considered are quantifiable variables"
   ]
  },
  {
   "cell_type": "code",
   "execution_count": null,
   "metadata": {},
   "outputs": [],
   "source": [
    "Q1 = num_attr.quantile(0.02)\n",
    "Q3 = num_attr.quantile(0.98)\n",
    "IQR = Q3 - Q1\n",
    "idx = ~((num_attr < (Q1 - 1.5 * IQR)) | (num_attr > (Q3 + 1.5 * IQR))).any(axis=1)"
   ]
  },
  {
   "cell_type": "markdown",
   "metadata": {},
   "source": [
    "## This is the dataframe without outliers:"
   ]
  },
  {
   "cell_type": "code",
   "execution_count": null,
   "metadata": {},
   "outputs": [],
   "source": [
    "result_cleaned = pd.concat([num_attr.loc[idx], cat_attr.loc[idx]], axis=1)\n",
    "result_cleaned.head()"
   ]
  },
  {
   "cell_type": "markdown",
   "metadata": {},
   "source": [
    "## Now, we have clean data. Without outliers and all the objects expand into a dataframe"
   ]
  }
 ],
 "metadata": {
  "kernelspec": {
   "display_name": "Python 3",
   "language": "python",
   "name": "python3"
  },
  "language_info": {
   "codemirror_mode": {
    "name": "ipython",
    "version": 3
   },
   "file_extension": ".py",
   "mimetype": "text/x-python",
   "name": "python",
   "nbconvert_exporter": "python",
   "pygments_lexer": "ipython3",
   "version": "3.7.1"
  }
 },
 "nbformat": 4,
 "nbformat_minor": 4
}
